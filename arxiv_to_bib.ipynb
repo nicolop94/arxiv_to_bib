{
 "cells": [
  {
   "cell_type": "code",
   "execution_count": 309,
   "id": "54d07c2e-0450-4269-9d05-ef7e233cc0ec",
   "metadata": {},
   "outputs": [],
   "source": [
    "import arxiv\n",
    "def createdict(link):\n",
    "    search=arxiv.Search(id_list=[link])\n",
    "    paper = next(search.results())\n",
    "    names=\"\"\n",
    "    for i in range(0,len(paper.authors)):\n",
    "        if i!=len(paper.authors)-1:\n",
    "            names=names+paper.authors[i].name.split(' ')[-1]+', '+paper.authors[i].name.split(' ')[0]+' and '\n",
    "        else:\n",
    "            names=names+paper.authors[i].name.split(' ')[-1]+', '+paper.authors[i].name.split(' ')[0]\n",
    "    bib={'ref':str((paper.authors[0].name).split(' ')[-1])+':'+str(paper.published.year)+str(paper.title[:3])}\n",
    "    bib['author']=names\n",
    "    bib['title']={paper.title}\n",
    "    bib['eprint']=paper.entry_id.split('/')[-1]\n",
    "    bib['archivePrefix']=\"arXiv\"\n",
    "    bib['doi']=paper.doi\n",
    "    return bib"
   ]
  },
  {
   "cell_type": "code",
   "execution_count": 310,
   "id": "eaeacfdd-6ed4-4fc4-b1e8-076f4bbc23b8",
   "metadata": {},
   "outputs": [],
   "source": [
    "def createbib(link):\n",
    "    print('@article{')\n",
    "    for key,value in createdict(link).items():\n",
    "        if key=='ref':\n",
    "            print(value+',')\n",
    "        if value:\n",
    "            print(key+'='+'\"'+str(value)+'\"'+',')\n",
    "    print('}')"
   ]
  },
  {
   "cell_type": "code",
   "execution_count": 329,
   "id": "21434c5e-e8e2-442f-b451-7eec7c92628d",
   "metadata": {},
   "outputs": [
    {
     "name": "stdout",
     "output_type": "stream",
     "text": [
      "@article{\n",
      "Ferrando:2023A L,\n",
      "ref=\"Ferrando:2023A L\",\n",
      "author=\"Ferrando, Gwenaël and Sever, Amit and Sharon, Adar and Urisman, Elior\",\n",
      "title=\"{'A Large Twist Limit for Any Operator'}\",\n",
      "eprint=\"2303.08852v1\",\n",
      "archivePrefix=\"arXiv\",\n",
      "doi=\"10.1007/JHEP06(2023)028\",\n",
      "}\n"
     ]
    }
   ],
   "source": [
    "createbib('2303.08852')"
   ]
  },
  {
   "cell_type": "code",
   "execution_count": 287,
   "id": "def9a2f8-4b2a-4e4d-9116-6f1f53badf3d",
   "metadata": {},
   "outputs": [],
   "source": [
    "def createfil(link,filename=r\"Python\\Notebooks\\arxivdwnld\"):\n",
    "    #Clears File\n",
    "    with open(filename,'w') as file:\n",
    "        pass\n",
    "    file.close()\n",
    "    temp=[]\n",
    "    temp.append('@article{')\n",
    "    for key,value in createdict(link).items():\n",
    "        if key=='ref':\n",
    "            temp.append(value+',\\n')\n",
    "        if value:\n",
    "            temp.append(key+'='+'\"'+str(value)+'\"'+',\\n')\n",
    "    temp.append('}\\n')\n",
    "    #print(temp)\n",
    "    #writes on file\n",
    "    file=open(filename,\"a+\")\n",
    "    file.writelines(temp)\n",
    "    file.close()"
   ]
  },
  {
   "cell_type": "code",
   "execution_count": 291,
   "id": "abc7d6e7-ef9b-443b-b367-09a4fe3b86b2",
   "metadata": {},
   "outputs": [
    {
     "name": "stdout",
     "output_type": "stream",
     "text": [
      "@article{Leurent:2020Com,\n",
      "ref=\"Leurent:2020Com\",\n",
      "author=\"Chernyak, Dmitry and Leurent, Sébastien and Volin, Dmytro\",\n",
      "title=\"{'Completeness of Wronskian Bethe equations for rational gl(m|n) spin chains'}\",\n",
      "eprint=\"2004.02865v2\",\n",
      "archivePrefix=\"arXiv\",\n",
      "doi=\"10.1007/s00220-021-04275-9\",\n",
      "}\n",
      "\n"
     ]
    }
   ],
   "source": [
    "#test\n",
    "filetest=open(r\"Python\\Notebooks\\arxivdwnld\",\"r+\")\n",
    "print(filetest.read())\n",
    "filetest.close()"
   ]
  }
 ],
 "metadata": {
  "kernelspec": {
   "display_name": "Python 3 (ipykernel)",
   "language": "python",
   "name": "python3"
  },
  "language_info": {
   "codemirror_mode": {
    "name": "ipython",
    "version": 3
   },
   "file_extension": ".py",
   "mimetype": "text/x-python",
   "name": "python",
   "nbconvert_exporter": "python",
   "pygments_lexer": "ipython3",
   "version": "3.10.12"
  }
 },
 "nbformat": 4,
 "nbformat_minor": 5
}
